{
 "cells": [
  {
   "cell_type": "markdown",
   "metadata": {},
   "source": [
    "# Shapelet Based Classication"
   ]
  },
  {
   "cell_type": "markdown",
   "metadata": {},
   "source": [
    "Import Required Libraries "
   ]
  },
  {
   "cell_type": "code",
   "execution_count": 245,
   "metadata": {
    "ExecuteTime": {
     "end_time": "2019-08-04T10:09:42.980407Z",
     "start_time": "2019-08-04T10:09:42.363612Z"
    },
    "init_cell": true
   },
   "outputs": [],
   "source": [
    "import collections\n",
    "import itertools\n",
    "import operator\n",
    "import pickle\n",
    "import random\n",
    "import threading\n",
    "import time\n",
    "from time import sleep\n",
    "from sklearn.metrics import accuracy_score\n",
    "import matplotlib.pyplot as plt\n",
    "import numpy as np\n",
    "import pandas as pd\n",
    "import progressbar\n",
    "import seaborn as sns\n",
    "from saxpy.sax import sax_via_window\n",
    "from scipy.io import arff\n",
    "from scipy.spatial import distance\n",
    "from sklearn import tree\n",
    "from sklearn.base import BaseEstimator, ClassifierMixin\n",
    "from sklearn.metrics import accuracy_score\n",
    "from sklearn.metrics.pairwise import euclidean_distances, manhattan_distances\n",
    "from sklearn.model_selection import train_test_split\n",
    "from sklearn.neighbors import KNeighborsClassifier\n",
    "from sklearn.preprocessing import MinMaxScaler, StandardScaler, normalize\n",
    "from sklearn.utils.validation import check_array, check_is_fitted, check_X_y\n",
    "\n",
    "%matplotlib inline\n",
    "INPUT_DIR = \"./Datasets/\"\n",
    "\n",
    "\n",
    "# Function to plot bar graph\n",
    "def plot_graph(Dictionary, mytitle, ytitle=\"Accuracy\", prune=False):\n",
    "    ys = sorted(Dictionary.values(), reverse=True)\n",
    "    labels = sorted(Dictionary, key=Dictionary.get, reverse=True)\n",
    "    xs = np.arange(len(labels))\n",
    "    # Set title\n",
    "    plt.figure(figsize=(15, 7))\n",
    "    plt.title(mytitle, fontsize=15)\n",
    "    plt.bar(xs, ys, align='center', color=getColors(len(xs)), tick_label=ys)\n",
    "    plt.xticks(\n",
    "        xs,\n",
    "        labels)  #Replace default x-ticks with xs, then replace xs with labels\n",
    "    plt.xlabel(\"Classifier Type\")\n",
    "    plt.yticks(ys)\n",
    "    plt.ylabel(ytitle)\n",
    "    plt.xticks(rotation=90)\n",
    "    plt.tick_params(axis='y', which='major')\n",
    "    # To ensure differences are scene start y value close to first value\n",
    "    plt.ylim(bottom=ys[-1] - 0.01)\n",
    "    # Prune y axis to avoid overlap\n",
    "    if prune:\n",
    "        new_y = []\n",
    "        for i, y in enumerate(ys):\n",
    "            if i == 0:\n",
    "                prev = y\n",
    "                new_y.append(prev)\n",
    "                continue\n",
    "            if (prev - y > 0.005):\n",
    "                new_y.append(y)\n",
    "            prev = y\n",
    "        plt.yticks(new_y)\n",
    "    plt.show()"
   ]
  },
  {
   "cell_type": "code",
   "execution_count": 303,
   "metadata": {
    "ExecuteTime": {
     "end_time": "2019-08-04T15:11:38.410249Z",
     "start_time": "2019-08-04T15:11:31.050556Z"
    }
   },
   "outputs": [],
   "source": [
    "class ShapeletClassifier(BaseEstimator, ClassifierMixin):\n",
    "    def fetchDistanceMeasure(self, dist_fn):\n",
    "        # Map in the function of the distance metric\n",
    "        if dist_fn == 'euclidean':\n",
    "            return euclidean_distances\n",
    "        elif dist_fn == 'manhattan':\n",
    "            return manhattan_distances\n",
    "        elif dist_fn == 'cosine':\n",
    "            return distance.cosine\n",
    "        else:\n",
    "            return distance.euclidean\n",
    "\n",
    "    def __init__(self,\n",
    "                 min_len=20,\n",
    "                 max_len=20,\n",
    "                 n_threads=5,\n",
    "                 shapelet_count=10,\n",
    "                 dist_fn='euclidean',\n",
    "                 prune_shapelets=False,\n",
    "                 similarity_threshold=1,\n",
    "                 infreq_support = 5,\n",
    "                 infreq_shapelets=False,\n",
    "                 normalize=True,\n",
    "                 verbose=False,\n",
    "                 logical_shapelets=False,\n",
    "                 logical_operators=['and', 'or'],\n",
    "                 logical_limit=2,\n",
    "                 classifiers=['dtree','knn'],\n",
    "                 classifier_arg={'k': 2},\n",
    "                 fast_shapelet_arg={\n",
    "                     'n_masking': 2,\n",
    "                     'mask_len': 2,\n",
    "                     'alpha_size': 5\n",
    "                 },\n",
    "                 fast_shapelets=False):\n",
    "        self.min_len = min_len\n",
    "        self.max_len = max_len\n",
    "        self.n_threads = n_threads\n",
    "        self.normalize = normalize\n",
    "        self.dist_fn = self.fetchDistanceMeasure(dist_fn)\n",
    "        self.shapelet_count = shapelet_count\n",
    "        self.shapelet_dict = {}\n",
    "        self.shapelet_dict_new = {}\n",
    "        self.thread_count = 0\n",
    "        self.shapelet_dict1 = {}\n",
    "        self.prune_shapelets = prune_shapelets\n",
    "        self.similarity_threshold = similarity_threshold\n",
    "        self.infreq_support = infreq_support\n",
    "        self.infreq_shapelets = infreq_shapelets\n",
    "        self.verbose = verbose\n",
    "        self.fast_shapelet_arg = fast_shapelet_arg\n",
    "        self.fast_shapelets = fast_shapelets\n",
    "        self.logical_shapelets = logical_shapelets\n",
    "        self.logical_limit = logical_limit\n",
    "        self.logical_operators = logical_operators\n",
    "        self.classifiers = classifiers\n",
    "        self.classifier_arg = classifier_arg\n",
    "        self.dtree_clf = tree.DecisionTreeClassifier()\n",
    "        self.knn_clf = KNeighborsClassifier(n_neighbors=self.classifier_arg['k'])\n",
    "\n",
    "    def save_model(self, pickle_dir=\"shapelet.pickle\"):\n",
    "        pickle_out = open(pickle_dir, \"wb\")\n",
    "        pickle.dump(self.shapelet_dict1, pickle_out)\n",
    "        pickle_out.close()\n",
    "\n",
    "    def load_model(self, pickle_dir=\"shapelet.pickle\"):\n",
    "        pickle_in = open(pickle_dir, \"rb\")\n",
    "        self.shapelet_dict1 = pickle.load(pickle_in)\n",
    "        return self.shapelet_dict1\n",
    "\n",
    "    def window(seq, n=10):\n",
    "        \"Returns a sliding window (of width n) over data from the iterable\"\n",
    "        \"   s -> (s0,s1,...s[n-1]), (s1,s2,...,sn), ...                   \"\n",
    "        it = iter(seq)\n",
    "        result = tuple(islice(it, n))\n",
    "        if len(result) == n:\n",
    "            yield result\n",
    "        for elem in it:\n",
    "            result = result[1:] + (elem, )\n",
    "            yield result\n",
    "\n",
    "    # Generate Subsequence candidates\n",
    "    def generate_candidates(self):\n",
    "        candidates, cand_len = [], self.max_len\n",
    "        # Fast shapelets (SAX Representation)\n",
    "        if self.fast_shapelets:\n",
    "            while cand_len >= self.min_len:\n",
    "                sax_time_series = []\n",
    "                mask_patterns = []\n",
    "                mask_dict = []\n",
    "                sax_list = []\n",
    "                masked_words = {}\n",
    "                sax_index = []\n",
    "                sax_counts = []\n",
    "                max_count = 0\n",
    "                if (self.fast_shapelet_arg['n_masking'] <\n",
    "                        self.fast_shapelet_arg['alpha_size']):\n",
    "                    counter = 0\n",
    "                    while counter < self.fast_shapelet_arg['n_masking']:\n",
    "                        mask_index = random.sample(\n",
    "                            range(self.fast_shapelet_arg['alpha_size']),\n",
    "                            self.fast_shapelet_arg['mask_len'])\n",
    "                        if mask_index in mask_patterns:\n",
    "                            continue\n",
    "                        mask_patterns.append(mask_index)\n",
    "                        counter += 1\n",
    "                counter = 0\n",
    "                for time_serie, label in zip(self.time_series, self.labels):\n",
    "                    sax = sax_via_window(time_serie, cand_len, 5, 5, \"none\",\n",
    "                                         0.01)\n",
    "                    sax_ = {}\n",
    "                    for key, indexes in sax.items():\n",
    "                        for index in indexes:\n",
    "                            sax_[index] = key\n",
    "                    sax = list(sax_.values())\n",
    "                    sax_time_series.append((sax, label))\n",
    "                    sax_list.extend(sax)\n",
    "                for iteration in mask_patterns:\n",
    "                    masked_list = {}\n",
    "                    masked_words = []\n",
    "                    for sax_series, label in sax_time_series:\n",
    "                        masked_sax = []\n",
    "                        words = sax_series\n",
    "                        for mask_index in iteration:\n",
    "                            if mask_index == 0:\n",
    "                                words = [word[1:] for word in words]\n",
    "                            elif mask_index == self.fast_shapelet_arg[\n",
    "                                    'alpha_size'] - 1:\n",
    "                                words = [\n",
    "                                    word[:self.\n",
    "                                         fast_shapelet_arg['alpha_size'] - 1]\n",
    "                                    for word in words\n",
    "                                ]\n",
    "                            else:\n",
    "                                words = [\n",
    "                                    (word[:mask_index] + word[mask_index + 1:])\n",
    "                                    for word in words\n",
    "                                ]\n",
    "                        masked_words.extend(words)\n",
    "                        if label in masked_list:\n",
    "                            masked_list[label] = masked_list[label] + words\n",
    "                        else:\n",
    "                            masked_list[label] = words\n",
    "                    if not sax_counts:\n",
    "                        for word in masked_words:\n",
    "                            sax_dict = {}\n",
    "                            for label in masked_list:\n",
    "                                sax_dict[label] = masked_list[label].count(\n",
    "                                    word)\n",
    "                                max_count = max(max_count, sax_dict[label])\n",
    "                            sax_counts.append(sax_dict)\n",
    "                    else:\n",
    "                        for index, word in enumerate(masked_words):\n",
    "                            sax_dict = sax_counts[index]\n",
    "                            for label in masked_list:\n",
    "                                sax_dict[label] = sax_dict[\n",
    "                                    label] + masked_list[label].count(word)\n",
    "                                max_count = max(max_count, sax_dict[label])\n",
    "                            sax_counts[index] = sax_dict\n",
    "                            sax_complement = []\n",
    "                            sax_dist_pow = []\n",
    "                            for sax_count in sax_counts:\n",
    "                                sax_dict = {}\n",
    "                                sax_dist = {}\n",
    "                                for label in sax_count:\n",
    "                                    sax_dict[\n",
    "                                        label] = max_count - sax_count[label]\n",
    "                                sax_dist = {\n",
    "                                    key: sax_dict[key] - sax_count.get(key, 0)\n",
    "                                    for key in sax_count.keys()\n",
    "                                }\n",
    "                                sax_complement.append(sax_dict)\n",
    "                                sax_dist_pow.append(sum(sax_dist.values()))\n",
    "                        max_dist_pow = sorted(\n",
    "                            range(len(sax_dist_pow)),\n",
    "                            key=lambda i: sax_dist_pow[i],\n",
    "                            reverse=True)[:self.shapelet_count]\n",
    "                        for max_index in max_dist_pow:\n",
    "                            index = 0\n",
    "                            for idx, time_serie in enumerate(sax_time_series):\n",
    "                                index += len(time_serie[0])\n",
    "                                if index >= max_index:\n",
    "                                    location = max_index - (index -\n",
    "                                                            len(time_serie[0]))\n",
    "                                    candidates.append(\n",
    "                                        (self.time_series[idx]\n",
    "                                         [location:location + cand_len],\n",
    "                                         time_serie[1]))\n",
    "                                    break\n",
    "                cand_len -= 1\n",
    "        # Normal representation\n",
    "        else:\n",
    "            while cand_len >= self.min_len:\n",
    "                for time_serie, label in zip(self.time_series, self.labels):\n",
    "                    for k in range(len(time_serie) - cand_len + 1):\n",
    "                        candidates.append((time_serie[k:k + cand_len], label))\n",
    "                cand_len -= 1\n",
    "        return pd.DataFrame(candidates)\n",
    "\n",
    "    # Fit & Train the dataset\n",
    "    def fit(self, X, y):\n",
    "        # Local variables\n",
    "        feature_set = list([])\n",
    "        feature_columns = []\n",
    "        # Check that X and y have correct shape\n",
    "        X, y = check_X_y(X, y)\n",
    "        # Normalize\n",
    "        if self.normalize:\n",
    "            self.time_series = X\n",
    "        else:\n",
    "            self.time_series = normalize(X)\n",
    "        # Fetch labels\n",
    "        self.classes = np.unique([label for label in y])\n",
    "        # Find discriminative shapelets for each label\n",
    "        for _class in self.classes:\n",
    "            labels = []\n",
    "            self.shapelet_dict_new = {}\n",
    "            self.shapelet_dict = {}\n",
    "            print(\" Fetching Shapelets to represent the target class:\", _class)\n",
    "            if self.verbose:\n",
    "                self.bar = progressbar.ProgressBar(\n",
    "                    maxval=self.n_threads,\n",
    "                    widgets=[\n",
    "                        progressbar.Bar('=', '[', ']'), ' ',\n",
    "                        progressbar.Percentage()\n",
    "                    ])\n",
    "                self.thread_count = 0\n",
    "            # Assign one vs all categorization for the current label\n",
    "            for label in y:\n",
    "                if label == _class: labels.append(1)\n",
    "                else: labels.append(0)\n",
    "            # Store labels for multi-threading\n",
    "            self.labels = pd.Series(labels)\n",
    "            # Generate Candidates\n",
    "            candidates = self.generate_candidates()\n",
    "            # Reduce candidates based on frequency\n",
    "            if self.infreq_shapelets:\n",
    "                candidates = self.infrequent_candidates(candidates)\n",
    "            # Pruning Algorithm Based on Similiarity\n",
    "            if self.prune_shapelets:\n",
    "                candidates = self.prune_candidates(candidates)\n",
    "            # Split candidates into batches\n",
    "            split_candidates = np.array_split(candidates, self.n_threads)\n",
    "            # Create threads for each batch\n",
    "            threads = [\n",
    "                threading.Thread(target=self.find_best_shapelet_worker,\n",
    "                                 args=[\n",
    "                                     pd.DataFrame(split_candidate),\n",
    "                                 ]) for split_candidate in split_candidates\n",
    "            ]\n",
    "            # Find total thread count\n",
    "            self.thread_total = len(threads)\n",
    "            # Start bar visualisation\n",
    "            if self.verbose:\n",
    "                self.bar.start()\n",
    "\n",
    "            # Start finding shapelets\n",
    "            for thread in threads:\n",
    "                thread.start()\n",
    "            for thread in threads:\n",
    "                thread.join()\n",
    "            if self.verbose:\n",
    "                self.bar.finish()\n",
    "\n",
    "            #  Return top k shapelets\n",
    "            if self.logical_shapelets:\n",
    "                self.shapelet_dict = {\n",
    "                    key: self.shapelet_dict[key]\n",
    "                    for key in sorted(self.shapelet_dict.keys(), reverse=True)\n",
    "                    [:self.shapelet_count]\n",
    "                }\n",
    "                self.shapelet_dict_new = dict(self.shapelet_dict)\n",
    "                # Create threads for each batch\n",
    "                threads = [\n",
    "                    threading.Thread(target=self.logical_shapelet,\n",
    "                                     args=[\n",
    "                                         operator,\n",
    "                                     ]) for operator in self.logical_operators\n",
    "                ]\n",
    "                \n",
    "                if self.verbose:\n",
    "                    print(\"Fetch Logical Shapelets\")\n",
    "                    self.log_bar = progressbar.ProgressBar(\n",
    "                        maxval=len(self.logical_operators*len(self.shapelet_dict.keys())),\n",
    "                        widgets=[\n",
    "                            progressbar.Bar('=', '[', ']'), ' ',\n",
    "                            progressbar.Percentage()\n",
    "                        ])\n",
    "                    self.log_bar.start()\n",
    "                    self.thread_count=0\n",
    "                # Start finding shapelets\n",
    "                for thread in threads:\n",
    "                    thread.start()\n",
    "                for thread in threads:\n",
    "                    thread.join()\n",
    "                if self.verbose:\n",
    "                    self.log_bar.finish()\n",
    "                self.shapelet_dict = dict(self.shapelet_dict_new)                \n",
    "            # Sort and save shapelets for class\n",
    "            self.shapelet_dict1[_class] = {\n",
    "                key: self.shapelet_dict[key]\n",
    "                for key in sorted(self.shapelet_dict.keys(), reverse=True)\n",
    "                [:self.shapelet_count]\n",
    "            }\n",
    "        if self.logical_shapelets:\n",
    "            # Create feature matrix\n",
    "            for x, label in zip(X, y):\n",
    "                temp_df = []\n",
    "                feature_column = 0\n",
    "                for _class in self.shapelet_dict1:\n",
    "                    shapelet_dict = self.shapelet_dict1[_class]\n",
    "                    for ig in shapelet_dict:\n",
    "                        if shapelet_dict[ig][0] == 'single':\n",
    "                            dist, split_idx = self.subsequence_distance(x, shapelet_dict[ig][1])\n",
    "                        elif shapelet_dict[ig][0] == 'and':\n",
    "                            for idx,shapelet in enumerate(shapelet_dict[ig][1]):\n",
    "                                temp_dist, split_idx = self.subsequence_distance(x, shapelet)\n",
    "                                if idx == 0:\n",
    "                                    dist = temp_dist\n",
    "                                elif temp_dist > dist:\n",
    "                                    dist = temp_dist\n",
    "                        else:\n",
    "                            for idx,shapelet in enumerate(shapelet_dict[ig][1]):\n",
    "                                temp_dist, split_idx = self.subsequence_distance(x, shapelet)\n",
    "                                if idx == 0:\n",
    "                                    dist = temp_dist\n",
    "                                elif temp_dist < dist:\n",
    "                                    dist = temp_dist\n",
    "                        temp_df.append(dist)\n",
    "                        if feature_column not in feature_columns:\n",
    "                            feature_columns.append(feature_column)\n",
    "                        feature_column += 1\n",
    "                temp_df.append(label)\n",
    "                feature_set.append(temp_df)\n",
    "            feature_columns.append('label')\n",
    "        else:\n",
    "            # Create feature matrix\n",
    "            for x, label in zip(X, y):\n",
    "                temp_df = []\n",
    "                feature_column = 0\n",
    "                for _class in self.shapelet_dict1:\n",
    "                    shapelet_dict = self.shapelet_dict1[_class]\n",
    "                    for ig in shapelet_dict:\n",
    "                        dist, split_idx = self.subsequence_distance(\n",
    "                            x, shapelet_dict[ig][0])\n",
    "                        temp_df.append(dist)\n",
    "                        if feature_column not in feature_columns:\n",
    "                            feature_columns.append(feature_column)\n",
    "                        feature_column += 1\n",
    "                temp_df.append(label)\n",
    "                feature_set.append(temp_df)\n",
    "            feature_columns.append('label')\n",
    "        # Feature set based on shapelet distance\n",
    "        self.feature_set = pd.DataFrame(feature_set, columns=feature_columns)\n",
    "        # Train Classifiers\n",
    "        # 1. Decision Tree\n",
    "        if 'dtree' in self.classifiers:\n",
    "            trainX, trainY = self.feature_set[self.feature_set.columns[:-1]].values, self.feature_set['label'].values\n",
    "            self.dtree_clf = self.dtree_clf.fit(trainX, trainY)\n",
    "        # 2. K-nearest neighbours\n",
    "        if 'knn' in self.classifiers:\n",
    "            trainX, trainY = self.feature_set[self.feature_set.columns[:-1]].values, self.feature_set['label'].values\n",
    "            self.knn_clf = self.knn_clf.fit(trainX, trainY)\n",
    "        return self\n",
    "\n",
    "    def logical_shapelet(self, operator):\n",
    "        for ig in self.shapelet_dict:\n",
    "            shapelet_array = [self.shapelet_dict[ig][1]]\n",
    "            logical_count = 1\n",
    "            for temp_ig in self.shapelet_dict:\n",
    "                if ig == temp_ig:\n",
    "                    continue\n",
    "                shapelet_array.append(self.shapelet_dict[temp_ig][1])\n",
    "                gain, dist, left, right, gap = self.check_logical_candidate(\n",
    "                    shapelet_array, logical_operator=operator)\n",
    "                logical_count += 1\n",
    "                if logical_count > self.logical_limit:\n",
    "                    break\n",
    "                if gain > ig and gain not in self.shapelet_dict_new:\n",
    "                    self.shapelet_dict_new[gain] = [\n",
    "                        operator, shapelet_array, dist, gap\n",
    "                    ]\n",
    "                elif gain > ig and gain in self.shapelet_dict_new and self.shapelet_dict_new[\n",
    "                        gain][3] < gap:\n",
    "                    self.shapelet_dict_new[gain] = [\n",
    "                        operator, shapelet_array, dist, gap\n",
    "                    ]\n",
    "            if self.verbose:\n",
    "                self.thread_count += 1\n",
    "                self.log_bar.update(self.thread_count)\n",
    "\n",
    "    def visualise_shapelets(self, n=10):\n",
    "        for _class in self.classes:\n",
    "            count = 0\n",
    "            print(\"FOR CLASS \", _class)\n",
    "            shapelet_dict = self.shapelet_dict1[_class]\n",
    "            if self.logical_shapelets:\n",
    "                for ig in shapelet_dict:\n",
    "                    print(\"Information Gain:\", ig)\n",
    "                    print(\"Operation:\", shapelet_dict[ig][0])\n",
    "                    print(\"Distance:\", shapelet_dict[ig][2])\n",
    "                    if shapelet_dict[ig][0] == 'single':\n",
    "                        plt.plot(shapelet_dict[ig][1])\n",
    "                        count += 1\n",
    "                        if count < n:\n",
    "                            for shapelets in shapelet_dict[ig][1]:\n",
    "                                plt.plot(shapelets)\n",
    "                                count += 1\n",
    "                                if count == n: break\n",
    "                    plt.show()\n",
    "                    if count == n: break\n",
    "            else:\n",
    "                for ig in shapelet_dict:\n",
    "                    print(\"Information Gain:\", ig)\n",
    "                    print(\"Distance:\", shapelet_dict[ig][1])\n",
    "                    plt.plot(shapelet_dict[ig][0])\n",
    "                    plt.show()\n",
    "                    count += 1\n",
    "                    if count == n: break\n",
    "\n",
    "    def predict(self, X, k=1, classifier=\"knn\"):\n",
    "\n",
    "        # Fetch labels of time series\n",
    "        self.classes = list(self.shapelet_dict1.keys())\n",
    "        # Check is fit had been called\n",
    "        check_is_fitted(self, ['shapelet_dict1'])\n",
    "        # Input validation\n",
    "        X = check_array(X)\n",
    "        # Output\n",
    "        y = list()\n",
    "        if self.normalize:\n",
    "            self.time_series = X\n",
    "        else:\n",
    "            self.time_series = normalize(X)\n",
    "        if self.logical_shapelets:\n",
    "            # Map in the function of the distance metric\n",
    "            if classifier == 'd_tree':\n",
    "                for x in X:\n",
    "                    neighbours = {}\n",
    "                    i = 0\n",
    "                    votes = {}\n",
    "                    no_shapelets = len(self.classes) - 2\n",
    "                    for idx, _class in enumerate(self.classes):\n",
    "                        shapelet_dict = self.shapelet_dict1[_class]\n",
    "                        found = False\n",
    "                        for ig in shapelet_dict:\n",
    "                            logical_combo = False\n",
    "                            if found:\n",
    "                                break\n",
    "                            if shapelet_dict[ig][0] == 'single':\n",
    "                                dist, split_idx = self.subsequence_distance(\n",
    "                                    x, shapelet_dict[ig][1])\n",
    "                                if (dist < shapelet_dict[ig][2]):\n",
    "                                    logical_combo = True\n",
    "                            else:\n",
    "                                for shapelet in shapelet_dict[ig][1]:\n",
    "                                    dist, split_idx = self.subsequence_distance(\n",
    "                                        x, shapelet)\n",
    "                                    if (dist < shapelet_dict[ig][2]\n",
    "                                            and shapelet_dict[ig][0] == 'and'):\n",
    "                                        logical_combo = True\n",
    "                                    elif (dist < shapelet_dict[ig][2]\n",
    "                                          and shapelet_dict[ig][0] == 'or'):\n",
    "                                        logical_combo = True\n",
    "                                        break\n",
    "                                    else:\n",
    "                                        logical_combo = False\n",
    "                                        break\n",
    "                            if logical_combo == True:\n",
    "                                y.append(_class)\n",
    "                                found = True\n",
    "                            elif (idx == no_shapelets):\n",
    "                                y.append(self.classes[idx + 1])\n",
    "                                found = True\n",
    "                            break\n",
    "                        if (found):\n",
    "                            break\n",
    "            # K nearest neighbour\n",
    "            elif classifier == 'knn':\n",
    "                feature_columns = []\n",
    "                feature_set = list([])\n",
    "                for x in X:\n",
    "                    temp_df = []\n",
    "                    feature_column = 0\n",
    "                    for _class in self.shapelet_dict1:\n",
    "                        shapelet_dict = self.shapelet_dict1[_class]\n",
    "                        for ig in shapelet_dict:\n",
    "                            if shapelet_dict[ig][0] == 'single':\n",
    "                                dist, split_idx = self.subsequence_distance(\n",
    "                                    x, shapelet_dict[ig][1])\n",
    "                            elif shapelet_dict[ig][0] == 'and':\n",
    "                                for idx,shapelet in enumerate(shapelet_dict[ig][1]):\n",
    "                                    temp_dist, split_idx = self.subsequence_distance(x, shapelet)\n",
    "                                    if idx == 0:\n",
    "                                        dist = temp_dist\n",
    "                                    elif temp_dist > dist:\n",
    "                                        dist = temp_dist\n",
    "                            else:\n",
    "                                for idx,shapelet in enumerate(shapelet_dict[ig][1]):\n",
    "                                    temp_dist, split_idx = self.subsequence_distance(x, shapelet)\n",
    "                                    if idx == 0:\n",
    "                                        dist = temp_dist\n",
    "                                    elif temp_dist < dist:\n",
    "                                        dist = temp_dist\n",
    "                            temp_df.append(dist)\n",
    "                            if feature_column not in feature_columns:\n",
    "                                feature_columns.append(feature_column)\n",
    "                                feature_column += 1\n",
    "                    feature_set.append(temp_df)\n",
    "                return self.knn_clf.predict(feature_set)\n",
    "            # Decision Tree\n",
    "            elif classifier == 'dtree':\n",
    "                feature_columns = []\n",
    "                feature_set = list([])\n",
    "                for x in X:\n",
    "                    temp_df = []\n",
    "                    feature_column = 0\n",
    "                    for _class in self.shapelet_dict1:\n",
    "                        shapelet_dict = self.shapelet_dict1[_class]\n",
    "                        for ig in shapelet_dict:\n",
    "                            if shapelet_dict[ig][0] == 'single':\n",
    "                                dist, split_idx = self.subsequence_distance(\n",
    "                                    x, shapelet_dict[ig][1])\n",
    "                            elif shapelet_dict[ig][0] == 'and':\n",
    "                                for idx,shapelet in enumerate(shapelet_dict[ig][1]):\n",
    "                                    temp_dist, split_idx = self.subsequence_distance(x, shapelet)\n",
    "                                    if idx == 0:\n",
    "                                        dist = temp_dist\n",
    "                                    elif temp_dist > dist:\n",
    "                                        dist = temp_dist\n",
    "                            else:\n",
    "                                for idx,shapelet in enumerate(shapelet_dict[ig][1]):\n",
    "                                    temp_dist, split_idx = self.subsequence_distance(x, shapelet)\n",
    "                                    if idx == 0:\n",
    "                                        dist = temp_dist\n",
    "                                    elif temp_dist < dist:\n",
    "                                        dist = temp_dist\n",
    "                            temp_df.append(dist)\n",
    "                            if feature_column not in feature_columns:\n",
    "                                feature_columns.append(feature_column)\n",
    "                                feature_column += 1\n",
    "                    feature_set.append(temp_df)\n",
    "                return self.dtree_clf.predict(feature_set)\n",
    "        else:\n",
    "            # Map in the function of the distance metric\n",
    "            if classifier == 'd_tree':\n",
    "                for x in X:\n",
    "                    neighbours = {}\n",
    "                    i = 0\n",
    "                    votes = {}\n",
    "                    no_shapelets = len(self.classes) - 2\n",
    "                    for idx, _class in enumerate(self.classes):\n",
    "                        shapelet_dict = self.shapelet_dict1[_class]\n",
    "                        found = False\n",
    "                        for ig in shapelet_dict:\n",
    "                            if found:\n",
    "                                break\n",
    "                            dist, split_idx = self.subsequence_distance(\n",
    "                                x, shapelet_dict[ig][0])\n",
    "                            if (dist < shapelet_dict[ig][1]):\n",
    "                                y.append(_class)\n",
    "                                found = True\n",
    "                            elif (idx == no_shapelets):\n",
    "                                y.append(self.classes[idx + 1])\n",
    "                                found = True\n",
    "                            break\n",
    "                        if (found):\n",
    "                            break\n",
    "            # K nearest neighbour\n",
    "            elif classifier == 'knn':\n",
    "                feature_columns = []\n",
    "                feature_set = list([])\n",
    "                for x in X:\n",
    "                    temp_df = []\n",
    "                    feature_column = 0\n",
    "                    for _class in self.shapelet_dict1:\n",
    "                        shapelet_dict = self.shapelet_dict1[_class]\n",
    "                        for ig in shapelet_dict:\n",
    "                            dist, split_idx = self.subsequence_distance(\n",
    "                                x, shapelet_dict[ig][0])\n",
    "                            temp_df.append(dist)\n",
    "                            if feature_column not in feature_columns:\n",
    "                                feature_columns.append(feature_column)\n",
    "                                feature_column += 1\n",
    "                    feature_set.append(temp_df)\n",
    "                return self.knn_clf.predict(feature_set)\n",
    "            # Decision Tree\n",
    "            elif classifier == 'dtree':\n",
    "                feature_columns = []\n",
    "                feature_set = list([])\n",
    "                for x in X:\n",
    "                    temp_df = []\n",
    "                    feature_column = 0\n",
    "                    for _class in self.shapelet_dict1:\n",
    "                        shapelet_dict = self.shapelet_dict1[_class]\n",
    "                        for ig in shapelet_dict:\n",
    "                            dist, split_idx = self.subsequence_distance(\n",
    "                                x, shapelet_dict[ig][0])\n",
    "                            temp_df.append(dist)\n",
    "                            if feature_column not in feature_columns:\n",
    "                                feature_columns.append(feature_column)\n",
    "                                feature_column += 1\n",
    "                    feature_set.append(temp_df)\n",
    "                return self.dtree_clf.predict(feature_set)\n",
    "            # knn\n",
    "            else:\n",
    "                for x in X:\n",
    "                    neighbours = {}\n",
    "                    i = 0\n",
    "                    found_k_nn = False\n",
    "                    votes = {}\n",
    "                    for _class in self.classes:\n",
    "                        shapelet_dict = self.shapelet_dict1[_class]\n",
    "                        for ig in shapelet_dict:\n",
    "                            dist, idx = self.subsequence_distance(\n",
    "                                x, shapelet_dict[ig][0])\n",
    "                            if dist not in neighbours:\n",
    "                                neighbours[dist] = [_class]\n",
    "                            else:\n",
    "                                dist_values = neighbours[dist]\n",
    "                                dist_values.append(_class)\n",
    "                                neighbours[dist] = dist_values\n",
    "                    for neighbour in sorted(neighbours):\n",
    "                        for _class in neighbours[neighbour]:\n",
    "                            if _class not in votes:\n",
    "                                votes[_class] = 1\n",
    "                            else:\n",
    "                                votes[_class] += 1\n",
    "                            i += 1\n",
    "                            if i > self.classifier_arg['k']:\n",
    "                                found_k_nn = True\n",
    "                                break\n",
    "                        if found_k_nn == True:\n",
    "                            y.append(\n",
    "                                max(votes.items(),\n",
    "                                    key=operator.itemgetter(1))[0])\n",
    "                            break\n",
    "        return np.array(y)\n",
    "\n",
    "    def prune_candidates(self,  candidates):\n",
    "        pruned_candidates = []\n",
    "        distan = []\n",
    "        for idx, candidate in candidates.iterrows():\n",
    "            add = True\n",
    "            for idx_dup, candidate_dup in candidates.iterrows():\n",
    "                if idx_dup < idx and len(candidate[0]) == len(\n",
    "                        candidate_dup[0]):\n",
    "                    dist = np.sum(\n",
    "                        self.dist_fn([candidate[0], candidate_dup[0]]))\n",
    "                    if dist < self.similarity_threshold:\n",
    "                        add = False\n",
    "                        break\n",
    "            if add:\n",
    "                pruned_candidates.append(candidate)\n",
    "        return pd.DataFrame(pruned_candidates)\n",
    "    \n",
    "    def infrequent_candidates(self,  candidates):\n",
    "        infrequent_candidates = []\n",
    "        candidate_freq = dict()\n",
    "        for idx, candidate in candidates.iterrows():\n",
    "            candidate_freq[idx]=0\n",
    "            for idx_dup, candidate_dup in candidates.iterrows():\n",
    "                if idx_dup != idx and len(candidate[0]) == len(\n",
    "                        candidate_dup[0]):\n",
    "                    dist = np.sum(\n",
    "                        self.dist_fn([candidate[0], candidate_dup[0]]))\n",
    "                    if dist < self.similarity_threshold:\n",
    "                        candidate_freq[idx] += 1\n",
    "        infreq_candidates = [candidates.iloc[idx] for (idx,count) in candidate_freq.items() if candidate_freq[idx] <= self.infreq_support]\n",
    "        return pd.DataFrame(infreq_candidates)\n",
    "\n",
    "    def manhattan_distance(self, x, y, min_dist=float('inf')):\n",
    "        dist = np.sum(self.dist_fn([x, y]))\n",
    "        if dist >= min_dist:\n",
    "            return None\n",
    "        return dist\n",
    "\n",
    "    def subsequence_distance(self, time_serie, sub_seq):\n",
    "        if len(sub_seq) < len(time_serie):\n",
    "            min_dist, min_idx = float(\"inf\"), 0\n",
    "            for i in range(len(time_serie) - len(sub_seq) + 1):\n",
    "                dist = self.manhattan_distance(sub_seq,\n",
    "                                               time_serie[i:i + len(sub_seq)],\n",
    "                                               min_dist)\n",
    "                if dist is not None and dist < min_dist:\n",
    "                    min_dist, min_idx = dist, i\n",
    "            return min_dist, min_idx\n",
    "        else:\n",
    "            return None, None\n",
    "\n",
    "    def calculate_entropy(self, probabilities):\n",
    "        return sum([\n",
    "            -prob * np.log(prob) / np.log(2) if prob != 0 else 0\n",
    "            for prob in probabilities\n",
    "        ])\n",
    "\n",
    "    def calculate_dict_entropy(self, distances):\n",
    "        count = {}\n",
    "        for distance in distances:\n",
    "            if distance[1] in count:\n",
    "                count[distance[1]] += 1\n",
    "            else:\n",
    "                count[distance[1]] = 1\n",
    "        return self.calculate_entropy(\n",
    "            np.divide(list(count.values()), float(sum(list(count.values())))))\n",
    "\n",
    "    def check_candidate(self, shapelet):\n",
    "        distances = {}\n",
    "        for time_serie, label in zip(self.time_series, self.labels):\n",
    "            dist, idx = self.subsequence_distance(time_serie, shapelet)\n",
    "            if dist is not None:\n",
    "                if dist not in distances:\n",
    "                    distances[dist] = [(time_serie, label)]\n",
    "                else:\n",
    "                    distances[dist].append((time_serie, label))\n",
    "        ordered_dict = collections.OrderedDict(sorted(distances.items()))\n",
    "        return self.find_best_split_dist(ordered_dict)\n",
    "\n",
    "    def check_logical_candidate(self, shapelets, logical_operator='and'):\n",
    "        distances = {}\n",
    "        for time_serie, label in zip(self.time_series, self.labels):\n",
    "            dist, idx = 0, 0\n",
    "            for index, shapelet in enumerate(shapelets):\n",
    "                temp_dist, temp_idx = self.subsequence_distance(\n",
    "                    time_serie, shapelet)\n",
    "                if index == 0:\n",
    "                    dist = temp_dist\n",
    "                    idx = temp_dist\n",
    "                if logical_operator == 'or' and temp_dist < dist:\n",
    "                    dist = temp_dist\n",
    "                    idx = temp_idx\n",
    "                elif logical_operator == 'and' and temp_dist > dist:\n",
    "                    dist = temp_dist\n",
    "                    idx = temp_idx\n",
    "            if dist is not None:\n",
    "                if dist not in distances:\n",
    "                    distances[dist] = [(time_serie, label)]\n",
    "                else:\n",
    "                    distances[dist].append((time_serie, label))\n",
    "        ordered_dict = collections.OrderedDict(sorted(distances.items()))\n",
    "        return self.find_best_split_dist(ordered_dict)\n",
    "\n",
    "    def find_best_split_dist(self, dist_dict):\n",
    "        distance_values = list(\n",
    "            itertools.chain.from_iterable(list(dist_dict.values())))\n",
    "        prior_entropy = self.calculate_dict_entropy(distance_values)\n",
    "        max_gap, best_distance, max_ig = 0, 0, 0\n",
    "        best_split = 0.01\n",
    "        best_left, best_right = None, None\n",
    "        broken = True\n",
    "        for split_distance in dist_dict:\n",
    "            split_left = []\n",
    "            split_right = []\n",
    "            dist_left, dist_right, sep_gap = 0, 0, 0\n",
    "            for distance in dist_dict:\n",
    "                if distance <= split_distance:\n",
    "                    split_left.extend(dist_dict[distance])\n",
    "                    dist_left += distance * len(dist_dict[distance])\n",
    "                else:\n",
    "                    split_right.extend(dist_dict[distance])\n",
    "                    dist_right += distance * len(dist_dict[distance])\n",
    "            if len(split_right) != 0 and len(split_left) != 0:\n",
    "                sep_gap = (1 / len(split_right) *\n",
    "                           dist_right) - (1 / len(split_left) * dist_left)\n",
    "            broken = (all(label[1] == 1 for label in split_right) or all(\n",
    "                label[1] == 0 for label in split_right)) and (all(\n",
    "                    label[1] == 1\n",
    "                    for label in split_left) or all(label[1] == 0\n",
    "                                                    for label in split_left))\n",
    "            ig = prior_entropy - (\n",
    "                float(len(split_left)) / float(len(distance_values)) *\n",
    "                self.calculate_dict_entropy(split_left) +\n",
    "                float(len(split_right)) / float(len(distance_values)) *\n",
    "                self.calculate_dict_entropy(split_right))\n",
    "            if ig > max_ig or (ig == max_ig and sep_gap < max_gap):\n",
    "                best_distance, max_ig, best_left, best_right, max_gap = split_distance, ig, split_left, split_right, sep_gap\n",
    "        return max_ig, best_distance, best_left, best_right, max_gap\n",
    "\n",
    "    def find_best_shapelet_worker(self, candidates):\n",
    "        #         print(candidates)\n",
    "        for candidate in candidates.values:\n",
    "            gain, dist, left, right, gap = self.check_candidate(candidate[0])\n",
    "            if self.logical_shapelets:\n",
    "                if gain not in self.shapelet_dict:\n",
    "                    self.shapelet_dict[gain] = [\n",
    "                        'single', candidate[0], dist, gap\n",
    "                    ]\n",
    "                elif self.shapelet_dict[gain][2] < gap:\n",
    "                    self.shapelet_dict[gain] = [\n",
    "                        'single', candidate[0], dist, gap\n",
    "                    ]\n",
    "            else:\n",
    "                if gain not in self.shapelet_dict:\n",
    "                    self.shapelet_dict[gain] = [candidate[0], dist, gap]\n",
    "                elif self.shapelet_dict[gain][2] < gap:\n",
    "                    self.shapelet_dict[gain] = [candidate[0], dist, gap]\n",
    "        self.thread_count += 1\n",
    "        if self.verbose:\n",
    "            self.bar.update(self.thread_count)"
   ]
  },
  {
   "cell_type": "markdown",
   "metadata": {},
   "source": [
    "### Gun Data"
   ]
  },
  {
   "cell_type": "markdown",
   "metadata": {},
   "source": [
    "Training Set"
   ]
  },
  {
   "cell_type": "code",
   "execution_count": 304,
   "metadata": {
    "ExecuteTime": {
     "end_time": "2019-08-04T15:11:39.024902Z",
     "start_time": "2019-08-04T15:11:38.452279Z"
    }
   },
   "outputs": [],
   "source": [
    "gun_data = np.loadtxt(INPUT_DIR+\"GunPoint/GunPoint_TRAIN.txt\")\n",
    "exec_time = {}\n",
    "exec_acc = {}"
   ]
  },
  {
   "cell_type": "code",
   "execution_count": 305,
   "metadata": {
    "ExecuteTime": {
     "end_time": "2019-08-04T15:11:39.191617Z",
     "start_time": "2019-08-04T15:11:39.105784Z"
    }
   },
   "outputs": [],
   "source": [
    "df = pd.DataFrame(gun_data)\n",
    "df=df.head(10)\n",
    "X, y = df[df.columns[1:]].values,df[df.columns[0]].astype(int)"
   ]
  },
  {
   "cell_type": "code",
   "execution_count": 306,
   "metadata": {
    "ExecuteTime": {
     "end_time": "2019-08-04T15:11:39.775562Z",
     "start_time": "2019-08-04T15:11:39.407153Z"
    }
   },
   "outputs": [],
   "source": [
    "test_data = np.loadtxt(INPUT_DIR+\"GunPoint/GunPoint_TEST.txt\")\n",
    "df = pd.DataFrame(test_data)\n",
    "time_series, labels = df[df.columns[1:]].values,df[df.columns[0]]"
   ]
  },
  {
   "cell_type": "code",
   "execution_count": 307,
   "metadata": {
    "ExecuteTime": {
     "end_time": "2019-08-04T15:11:45.691759Z",
     "start_time": "2019-08-04T15:11:39.788365Z"
    }
   },
   "outputs": [
    {
     "data": {
      "text/plain": [
       "<matplotlib.axes._subplots.AxesSubplot at 0x7f0de30b57f0>"
      ]
     },
     "execution_count": 307,
     "metadata": {},
     "output_type": "execute_result"
    },
    {
     "data": {
      "image/png": "[encoded data removed]",
      "text/plain": [
       "<Figure size 432x288 with 1 Axes>"
      ]
     },
     "metadata": {
      "needs_background": "light"
     },
     "output_type": "display_data"
    }
   ],
   "source": [
    "y.value_counts().plot(kind='bar',title='Train Set, Gun/No Gun')"
   ]
  },
  {
   "cell_type": "code",
   "execution_count": 308,
   "metadata": {
    "ExecuteTime": {
     "end_time": "2019-08-04T15:11:52.224793Z",
     "start_time": "2019-08-04T15:11:45.714995Z"
    },
    "scrolled": true
   },
   "outputs": [
    {
     "data": {
      "text/plain": [
       "<matplotlib.axes._subplots.AxesSubplot at 0x7f0dfcb4b710>"
      ]
     },
     "execution_count": 308,
     "metadata": {},
     "output_type": "execute_result"
    },
    {
     "data": {
      "image/png": "[encoded data removed]",
      "text/plain": [
       "<Figure size 432x288 with 1 Axes>"
      ]
     },
     "metadata": {
      "needs_background": "light"
     },
     "output_type": "display_data"
    }
   ],
   "source": [
    "labels.value_counts().plot(kind='bar',title='Test Set, Gun/No Gun')"
   ]
  },
  {
   "cell_type": "markdown",
   "metadata": {},
   "source": [
    "#### Infrequent Shapelets"
   ]
  },
  {
   "cell_type": "code",
   "execution_count": 309,
   "metadata": {
    "ExecuteTime": {
     "end_time": "2019-08-04T15:31:41.191671Z",
     "start_time": "2019-08-04T15:11:52.233165Z"
    }
   },
   "outputs": [
    {
     "name": "stdout",
     "output_type": "stream",
     "text": [
      " Fetching Shapelets to represent the target class: 1\n",
      "                                                    0  1\n",
      "0   [-0.6488921, -0.65765851, -0.66120325, -0.6496...  0\n",
      "1   [-0.63695831, -0.6304882, -0.60813961, -0.5875...  1\n",
      "2   [-0.6304882, -0.60813961, -0.5875428, -0.57186...  1\n",
      "3   [2.0369817, 2.0312207, 2.0341011, 2.0241404, 2...  0\n",
      "4   [-0.78399394, -0.76841397, -0.75374622, -0.735...  0\n",
      "5   [-1.2058806, -1.3022339, -1.3340717, -1.355026...  0\n",
      "6   [0.5792837, 0.57973858, 0.57174901, 0.55549803...  0\n",
      "7   [0.57973858, 0.57174901, 0.55549803, 0.5510534...  0\n",
      "8   [1.8137368, 1.8065749, 1.7817465, 1.7681708, 1...  0\n",
      "9   [-0.64332472, -0.63886892, -0.63655838, -0.633...  0\n",
      "10  [-0.62009554, -0.63717177, -0.64028974, -0.636...  1\n",
      "11  [-0.60813961, -0.5875428, -0.57186065, -0.5538...  1\n",
      "12  [-0.59739651, -0.59972023, -0.60136467, -0.601...  0\n",
      "13  [-1.323056, -1.2908458, -1.2585861, -1.2383885...  0\n",
      "14  [0.57498339, 0.5792837, 0.57973858, 0.57174901...  0\n",
      "15  [-0.81959688, -0.82809198, -0.83645591, -0.843...  1\n",
      "16  [-0.82809198, -0.83645591, -0.84388404, -0.859...  1\n",
      "17  [-0.65934631, -0.65258234, -0.64332472, -0.638...  0\n",
      "18  [-0.63695831, -0.6304882, -0.60813961, -0.5875...  1\n",
      "19  [-0.66120325, -0.64966432, -0.61016844, -0.537...  0\n",
      "20  [-0.61016844, -0.53743483, -0.46503123, -0.358...  0\n",
      "21  [-0.63695831, -0.6304882, -0.60813961, -0.5875...  1\n",
      "22  [-0.6304882, -0.60813961, -0.5875428, -0.57186...  1\n",
      "23  [0.57174901, 0.55549803, 0.55105342, 0.5521437...  0\n",
      "24  [0.55549803, 0.55105342, 0.55214371, 0.5537168...  0\n",
      "25  [1.0670253, 1.0676316, 1.067565, 1.0605881, 1....  0\n",
      "26  [-0.63717177, -0.64028974, -0.63695831, -0.630...  1\n",
      "27  [-0.53961389, -0.53883187, -0.55839037, -0.588...  1\n",
      "28  [-0.60136467, -0.60141939, -0.60605497, -0.605...  0\n",
      "29  [-1.0769759, -1.2058806, -1.3022339, -1.334071...  0\n"
     ]
    },
    {
     "name": "stderr",
     "output_type": "stream",
     "text": [
      "[========================================================================] 100%\n"
     ]
    },
    {
     "name": "stdout",
     "output_type": "stream",
     "text": [
      " Fetching Shapelets to represent the target class: 2\n",
      "                                                    0  1\n",
      "0   [-0.6488921, -0.65765851, -0.66120325, -0.6496...  1\n",
      "1   [-0.78399394, -0.76841397, -0.75374622, -0.735...  1\n",
      "2   [0.5792837, 0.57973858, 0.57174901, 0.55549803...  1\n",
      "3   [0.57973858, 0.57174901, 0.55549803, 0.5510534...  1\n",
      "4   [-0.57743736, -0.59806714, -0.62009554, -0.637...  0\n",
      "5   [-0.63717177, -0.64028974, -0.63695831, -0.630...  0\n",
      "6   [-0.55389145, -0.53961389, -0.53883187, -0.558...  0\n",
      "7   [-0.79366331, -0.78399394, -0.76841397, -0.753...  1\n",
      "8   [-0.62009554, -0.63717177, -0.64028974, -0.636...  0\n",
      "9   [-0.78887023, -0.7819503, -0.77419637, -0.7677...  0\n",
      "10  [-0.66120325, -0.64966432, -0.61016844, -0.537...  1\n",
      "11  [-0.65934631, -0.65258234, -0.64332472, -0.638...  1\n",
      "12  [-0.6304882, -0.60813961, -0.5875428, -0.57186...  0\n",
      "13  [-1.323056, -1.2908458, -1.2585861, -1.2383885...  1\n",
      "14  [0.5792837, 0.57973858, 0.57174901, 0.55549803...  1\n",
      "15  [-0.37892463, -0.49682449, -0.61293216, -0.711...  1\n",
      "16  [-0.59806714, -0.62009554, -0.63717177, -0.640...  0\n",
      "17  [-0.62009554, -0.63717177, -0.64028974, -0.636...  0\n",
      "18  [-0.63717177, -0.64028974, -0.63695831, -0.630...  0\n",
      "19  [-0.63695831, -0.6304882, -0.60813961, -0.5875...  0\n",
      "20  [-0.61016844, -0.53743483, -0.46503123, -0.358...  1\n",
      "21  [-0.6304882, -0.60813961, -0.5875428, -0.57186...  0\n",
      "22  [-1.2383885, -1.2238978, -1.220998, -1.2265681...  1\n",
      "23  [0.57174901, 0.55549803, 0.55105342, 0.5521437...  1\n",
      "24  [0.55549803, 0.55105342, 0.55214371, 0.5537168...  1\n",
      "25  [-0.53961389, -0.53883187, -0.55839037, -0.588...  0\n",
      "26  [-0.53883187, -0.55839037, -0.58863936, -0.629...  0\n",
      "27  [-0.55839037, -0.58863936, -0.62928784, -0.662...  0\n",
      "28  [-0.60136467, -0.60141939, -0.60605497, -0.605...  1\n",
      "29  [-0.71730275, -0.7113566, -0.70475488, -0.6991...  1\n"
     ]
    },
    {
     "name": "stderr",
     "output_type": "stream",
     "text": [
      "[========================================================================] 100%\n"
     ]
    }
   ],
   "source": [
    "start_time = time.process_time()\n",
    "sp = ShapeletClassifier(min_len=14,max_len=16,normalize=True,n_threads=1000,shapelet_count=10,infreq_shapelets=True,infreq_support=8,similarity_threshold=1,fast_shapelets=True,verbose=True,logical_shapelets=False)\n",
    "sp.fit(X,y)\n",
    "end_time = time.process_time()\n",
    "exec_time['Infrequent Shapelets Gun Training Time'] = end_time-start_time"
   ]
  },
  {
   "cell_type": "code",
   "execution_count": 310,
   "metadata": {
    "ExecuteTime": {
     "end_time": "2019-08-04T15:59:18.584653Z",
     "start_time": "2019-08-04T15:31:41.195487Z"
    }
   },
   "outputs": [
    {
     "data": {
      "text/plain": [
       "{'Fast Shapelets Gun': 0.56,\n",
       " 'Fast Shapelets Gun dtree': 0.8333333333333334,\n",
       " 'Fast Shapelets Gun knn': 0.74}"
      ]
     },
     "execution_count": 310,
     "metadata": {},
     "output_type": "execute_result"
    }
   ],
   "source": [
    "predicted = sp.predict(time_series,classifier=\"d_tree\")\n",
    "exec_acc['Infrequent Shapelets Gun']=accuracy_score(predicted,labels)\n",
    "predicted = sp.predict(time_series,classifier=\"dtree\")\n",
    "exec_acc['Infrequent Shapelets Gun dtree']=accuracy_score(predicted,labels)\n",
    "predicted = sp.predict(time_series,classifier=\"knn\")\n",
    "exec_acc['Infrequent Shapelets Gun knn']=accuracy_score(predicted,labels)\n",
    "exec_acc"
   ]
  },
  {
   "cell_type": "markdown",
   "metadata": {},
   "source": [
    "#### Fast Shapelets"
   ]
  },
  {
   "cell_type": "code",
   "execution_count": 94,
   "metadata": {
    "ExecuteTime": {
     "end_time": "2019-08-01T21:27:11.044149Z",
     "start_time": "2019-08-01T21:26:53.605615Z"
    },
    "scrolled": false
   },
   "outputs": [
    {
     "name": "stdout",
     "output_type": "stream",
     "text": [
      " Fetching Shapelets to represent the target class: 1\n"
     ]
    },
    {
     "name": "stderr",
     "output_type": "stream",
     "text": [
      "[========================================================================] 100%\n"
     ]
    },
    {
     "name": "stdout",
     "output_type": "stream",
     "text": [
      " Fetching Shapelets to represent the target class: 2\n"
     ]
    },
    {
     "name": "stderr",
     "output_type": "stream",
     "text": [
      "[========================================================================] 100%\n"
     ]
    }
   ],
   "source": [
    "start_time = time.process_time()\n",
    "sp = ShapeletClassifier(min_len=14,max_len=16,normalize=True,n_threads=1000,shapelet_count=10,prune_shapelets=False,fast_shapelets=True,verbose=True,logical_shapelets=False)\n",
    "sp.fit(X,y)\n",
    "end_time = time.process_time()\n",
    "exec_time['Fast Shapelets Gun Training Time'] = end_time-start_time"
   ]
  },
  {
   "cell_type": "code",
   "execution_count": 95,
   "metadata": {
    "ExecuteTime": {
     "end_time": "2019-08-01T21:27:11.672024Z",
     "start_time": "2019-08-01T21:27:11.049192Z"
    }
   },
   "outputs": [
    {
     "name": "stdout",
     "output_type": "stream",
     "text": [
      "FOR CLASS  1\n",
      "Information Gain: 1.0\n",
      "Distance: 1.2260999800686978\n"
     ]
    },
    {
     "data": {
      "image/png": "[encoded data removed]",
      "text/plain": [
       "<Figure size 432x288 with 1 Axes>"
      ]
     },
     "metadata": {
      "needs_background": "light"
     },
     "output_type": "display_data"
    },
    {
     "name": "stdout",
     "output_type": "stream",
     "text": [
      "Information Gain: 0.31127812445913283\n",
      "Distance: 1.6858739404357614e-07\n"
     ]
    },
    {
     "data": {
      "image/png": "[encoded data removed]",
      "text/plain": [
       "<Figure size 432x288 with 1 Axes>"
      ]
     },
     "metadata": {
      "needs_background": "light"
     },
     "output_type": "display_data"
    },
    {
     "name": "stdout",
     "output_type": "stream",
     "text": [
      "FOR CLASS  2\n",
      "Information Gain: 1.0\n",
      "Distance: 0.11434470841324586\n"
     ]
    },
    {
     "data": {
      "image/png": "[encoded data removed]",
      "text/plain": [
       "<Figure size 432x288 with 1 Axes>"
      ]
     },
     "metadata": {
      "needs_background": "light"
     },
     "output_type": "display_data"
    },
    {
     "name": "stdout",
     "output_type": "stream",
     "text": [
      "Information Gain: 0.31127812445913283\n",
      "Distance: 0.8923468001449228\n"
     ]
    },
    {
     "data": {
      "image/png": "[encoded data removed]",
      "text/plain": [
       "<Figure size 432x288 with 1 Axes>"
      ]
     },
     "metadata": {
      "needs_background": "light"
     },
     "output_type": "display_data"
    }
   ],
   "source": [
    "sp.visualise_shapelets(20)"
   ]
  },
  {
   "cell_type": "markdown",
   "metadata": {},
   "source": [
    "Test Set"
   ]
  },
  {
   "cell_type": "code",
   "execution_count": 100,
   "metadata": {
    "ExecuteTime": {
     "end_time": "2019-08-01T21:27:35.852271Z",
     "start_time": "2019-08-01T21:27:19.065723Z"
    }
   },
   "outputs": [],
   "source": [
    "predicted = sp.predict(time_series,classifier=\"d_tree\")\n",
    "exec_acc['Fast Shapelets Gun']=accuracy_score(predicted,labels)\n",
    "predicted = sp.predict(time_series,classifier=\"dtree\")\n",
    "exec_acc['Fast Shapelets Gun dtree']=accuracy_score(predicted,labels)\n",
    "predicted = sp.predict(time_series,classifier=\"knn\")\n",
    "exec_acc['Fast Shapelets Gun knn']=accuracy_score(predicted,labels)"
   ]
  },
  {
   "cell_type": "code",
   "execution_count": 101,
   "metadata": {
    "ExecuteTime": {
     "end_time": "2019-08-01T21:27:35.867272Z",
     "start_time": "2019-08-01T21:27:35.859577Z"
    }
   },
   "outputs": [
    {
     "data": {
      "text/plain": [
       "{'Fast Shapelets Gun Validation Set': 0.0,\n",
       " 'Fast Shapelets Gun Test Set': 0.64,\n",
       " 'Fast Shapelets Gun Test Set dtree': 0.64,\n",
       " 'Fast Shapelets Gun Test Set knn': 0.5066666666666667}"
      ]
     },
     "execution_count": 101,
     "metadata": {},
     "output_type": "execute_result"
    }
   ],
   "source": [
    "exec_acc"
   ]
  },
  {
   "cell_type": "markdown",
   "metadata": {},
   "source": [
    "#### Brute Force (Pruned)"
   ]
  },
  {
   "cell_type": "code",
   "execution_count": 104,
   "metadata": {
    "ExecuteTime": {
     "end_time": "2019-08-01T21:44:32.567440Z",
     "start_time": "2019-08-01T21:27:43.248834Z"
    },
    "scrolled": false
   },
   "outputs": [
    {
     "name": "stdout",
     "output_type": "stream",
     "text": [
      " Fetching Shapelets to represent the target class: 1\n"
     ]
    },
    {
     "name": "stderr",
     "output_type": "stream",
     "text": [
      "[========================================================================] 100%\n"
     ]
    },
    {
     "name": "stdout",
     "output_type": "stream",
     "text": [
      " Fetching Shapelets to represent the target class: 2\n"
     ]
    },
    {
     "name": "stderr",
     "output_type": "stream",
     "text": [
      "[========================================================================] 100%\n"
     ]
    }
   ],
   "source": [
    "start_time = time.process_time()\n",
    "sp = ShapeletClassifier(min_len=14,max_len=16,normalize=True,n_threads=1000,shapelet_count=100,prune_shapelets=True,similarity_threshold=0.1,fast_shapelets=False,verbose=True,logical_shapelets=False)\n",
    "sp.fit(X,y)\n",
    "end_time = time.process_time()\n",
    "exec_time['Pruned Shapelets Gun Training Time'] = end_time-start_time"
   ]
  },
  {
   "cell_type": "code",
   "execution_count": 105,
   "metadata": {
    "ExecuteTime": {
     "end_time": "2019-08-01T21:44:33.144412Z",
     "start_time": "2019-08-01T21:44:32.570750Z"
    }
   },
   "outputs": [
    {
     "name": "stdout",
     "output_type": "stream",
     "text": [
      "FOR CLASS  1\n",
      "Information Gain: 1.0\n",
      "Distance: 0.2535135532690883\n"
     ]
    },
    {
     "data": {
      "image/png": "[encoded data removed]",
      "text/plain": [
       "<Figure size 432x288 with 1 Axes>"
      ]
     },
     "metadata": {
      "needs_background": "light"
     },
     "output_type": "display_data"
    },
    {
     "name": "stdout",
     "output_type": "stream",
     "text": [
      "Information Gain: 0.31127812445913283\n",
      "Distance: 1.6858739404357614e-07\n"
     ]
    },
    {
     "data": {
      "image/png": "[encoded data removed]",
      "text/plain": [
       "<Figure size 432x288 with 1 Axes>"
      ]
     },
     "metadata": {
      "needs_background": "light"
     },
     "output_type": "display_data"
    },
    {
     "name": "stdout",
     "output_type": "stream",
     "text": [
      "FOR CLASS  2\n",
      "Information Gain: 1.0\n",
      "Distance: 0.2535135532690883\n"
     ]
    },
    {
     "data": {
      "image/png": "[encoded data removed]",
      "text/plain": [
       "<Figure size 432x288 with 1 Axes>"
      ]
     },
     "metadata": {
      "needs_background": "light"
     },
     "output_type": "display_data"
    },
    {
     "name": "stdout",
     "output_type": "stream",
     "text": [
      "Information Gain: 0.31127812445913283\n",
      "Distance: 1.6858739404357614e-07\n"
     ]
    },
    {
     "data": {
      "image/png": "[encoded data removed]",
      "text/plain": [
       "<Figure size 432x288 with 1 Axes>"
      ]
     },
     "metadata": {
      "needs_background": "light"
     },
     "output_type": "display_data"
    }
   ],
   "source": [
    "sp.visualise_shapelets()"
   ]
  },
  {
   "cell_type": "code",
   "execution_count": 106,
   "metadata": {
    "ExecuteTime": {
     "end_time": "2019-08-01T21:44:33.172331Z",
     "start_time": "2019-08-01T21:44:33.148567Z"
    }
   },
   "outputs": [
    {
     "name": "stdout",
     "output_type": "stream",
     "text": [
      "[2]\n",
      "[2]\n"
     ]
    }
   ],
   "source": [
    "predicted = sp.predict(time_series,classifier=\"d_tree\")\n",
    "exec_acc['Pruned Shapelets Gun']=accuracy_score(predicted,labels)\n",
    "predicted = sp.predict(time_series,classifier=\"dtree\")\n",
    "exec_acc['Pruned Shapelets Gun dtree']=accuracy_score(predicted,labels)\n",
    "predicted = sp.predict(time_series,classifier=\"knn\")\n",
    "exec_acc['Pruned Shapelets Gun knn']=accuracy_score(predicted,labels)"
   ]
  },
  {
   "cell_type": "code",
   "execution_count": null,
   "metadata": {},
   "outputs": [],
   "source": [
    "exec_acc"
   ]
  },
  {
   "cell_type": "markdown",
   "metadata": {},
   "source": [
    "#### Logical Shapelets"
   ]
  },
  {
   "cell_type": "code",
   "execution_count": 253,
   "metadata": {
    "ExecuteTime": {
     "end_time": "2019-08-04T10:24:19.036966Z",
     "start_time": "2019-08-04T10:10:38.692874Z"
    },
    "scrolled": false
   },
   "outputs": [
    {
     "name": "stdout",
     "output_type": "stream",
     "text": [
      " Fetching Shapelets to represent the target class: 1\n"
     ]
    },
    {
     "name": "stderr",
     "output_type": "stream",
     "text": [
      "[========================================================================] 100%\n",
      "[========================================================================] 100%\n"
     ]
    },
    {
     "name": "stdout",
     "output_type": "stream",
     "text": [
      " Fetching Shapelets to represent the target class: 2\n"
     ]
    },
    {
     "name": "stderr",
     "output_type": "stream",
     "text": [
      "[========================================================================] 100%\n",
      "[========================================================================] 100%\n"
     ]
    }
   ],
   "source": [
    "start_time = time.process_time()\n",
    "sp = ShapeletClassifier(min_len=14,max_len=16,normalize=True,n_threads=1000,shapelet_count=100,prune_shapelets=False,fast_shapelets=False,verbose=True,logical_shapelets=True)\n",
    "sp.fit(X,y)\n",
    "end_time = time.process_time()\n",
    "exec_time['Logical Shapelets Gun Training Time'] = end_time-start_time"
   ]
  },
  {
   "cell_type": "code",
   "execution_count": 254,
   "metadata": {
    "ExecuteTime": {
     "end_time": "2019-08-04T10:25:03.712123Z",
     "start_time": "2019-08-04T10:24:41.549357Z"
    }
   },
   "outputs": [
    {
     "name": "stdout",
     "output_type": "stream",
     "text": [
      "FOR CLASS  1\n",
      "Information Gain: 0.9709505944546688\n",
      "Operation: single\n",
      "Distance: 1.5684426967152483\n"
     ]
    },
    {
     "data": {
      "image/png": "[encoded data removed]",
      "text/plain": [
       "<Figure size 432x288 with 1 Axes>"
      ]
     },
     "metadata": {
      "needs_background": "light"
     },
     "output_type": "display_data"
    },
    {
     "name": "stdout",
     "output_type": "stream",
     "text": [
      "Information Gain: 0.41997309402197514\n",
      "Operation: single\n",
      "Distance: 1.5721753910236134\n"
     ]
    },
    {
     "data": {
      "image/png": "[encoded data removed]",
      "text/plain": [
       "<Figure size 432x288 with 1 Axes>"
      ]
     },
     "metadata": {
      "needs_background": "light"
     },
     "output_type": "display_data"
    },
    {
     "name": "stdout",
     "output_type": "stream",
     "text": [
      "FOR CLASS  2\n",
      "Information Gain: 0.9709505944546688\n",
      "Operation: single\n",
      "Distance: 1.6798881119289548\n"
     ]
    },
    {
     "data": {
      "image/png": "[encoded data removed]",
      "text/plain": [
       "<Figure size 432x288 with 1 Axes>"
      ]
     },
     "metadata": {
      "needs_background": "light"
     },
     "output_type": "display_data"
    },
    {
     "name": "stdout",
     "output_type": "stream",
     "text": [
      "Information Gain: 0.41997309402197514\n",
      "Operation: single\n",
      "Distance: 1.5721753910236134\n"
     ]
    },
    {
     "data": {
      "image/png": "[encoded data removed]",
      "text/plain": [
       "<Figure size 432x288 with 1 Axes>"
      ]
     },
     "metadata": {
      "needs_background": "light"
     },
     "output_type": "display_data"
    }
   ],
   "source": [
    "sp.visualise_shapelets(20)"
   ]
  },
  {
   "cell_type": "code",
   "execution_count": 255,
   "metadata": {
    "ExecuteTime": {
     "end_time": "2019-08-04T10:45:44.071869Z",
     "start_time": "2019-08-04T10:25:17.417128Z"
    },
    "scrolled": true
   },
   "outputs": [],
   "source": [
    "predicted = sp.predict(time_series,classifier=\"d_tree\")\n",
    "exec_acc['Logical Shapelets Gun']=accuracy_score(predicted,labels)\n",
    "predicted = sp.predict(time_series,classifier=\"dtree\")\n",
    "exec_acc['Logical Shapelets Gun dtree']=accuracy_score(predicted,labels)\n",
    "predicted = sp.predict(time_series,classifier=\"knn\")\n",
    "exec_acc['Logical Shapelets Gun knn']=accuracy_score(predicted,labels)"
   ]
  },
  {
   "cell_type": "markdown",
   "metadata": {},
   "source": [
    "Test Set"
   ]
  },
  {
   "cell_type": "code",
   "execution_count": 256,
   "metadata": {
    "ExecuteTime": {
     "end_time": "2019-08-04T10:45:44.177863Z",
     "start_time": "2019-08-04T10:45:44.075802Z"
    }
   },
   "outputs": [
    {
     "data": {
      "text/plain": [
       "{'Logical Shapelets Gun': 0.5266666666666666,\n",
       " 'Logical Shapelets Gun dtree': 0.5066666666666667,\n",
       " 'Logical Shapelets Gun knn': 0.5}"
      ]
     },
     "execution_count": 256,
     "metadata": {},
     "output_type": "execute_result"
    }
   ],
   "source": [
    "exec_acc"
   ]
  },
  {
   "cell_type": "markdown",
   "metadata": {},
   "source": [
    "#### Brute Force"
   ]
  },
  {
   "cell_type": "code",
   "execution_count": null,
   "metadata": {
    "ExecuteTime": {
     "end_time": "2019-08-01T21:54:36.926347Z",
     "start_time": "2019-08-01T21:27:14.379Z"
    },
    "scrolled": false
   },
   "outputs": [],
   "source": [
    "start_time = time.process_time()\n",
    "sp = ShapeletClassifier(min_len=14,max_len=16,n_threads=3000,normalize=True,shapelet_count=100,prune_shapelets=False,fast_shapelets=False,verbose=True)\n",
    "sp.fit(X,y)\n",
    "end_time = time.process_time()\n",
    "exec_time['Brute Force Gun Training Time'] = end_time-start_time"
   ]
  },
  {
   "cell_type": "code",
   "execution_count": null,
   "metadata": {
    "ExecuteTime": {
     "end_time": "2019-08-01T21:54:36.927459Z",
     "start_time": "2019-08-01T21:27:14.609Z"
    }
   },
   "outputs": [],
   "source": [
    "sp.visualise_shapelets()"
   ]
  },
  {
   "cell_type": "code",
   "execution_count": null,
   "metadata": {
    "ExecuteTime": {
     "end_time": "2019-08-01T21:54:36.928686Z",
     "start_time": "2019-08-01T21:27:14.834Z"
    }
   },
   "outputs": [],
   "source": [
    "predicted = sp.predict(time_series,classifier=\"d_tree\")\n",
    "exec_acc['Brute Force Shapelets Gun']=accuracy_score(predicted,labels)\n",
    "predicted = sp.predict(time_series,classifier=\"dtree\")\n",
    "exec_acc['Brute Force Shapelets Gun dtree']=accuracy_score(predicted,labels)\n",
    "predicted = sp.predict(time_series,classifier=\"knn\")\n",
    "exec_acc['Brute Force Shapelets Gun knn']=accuracy_score(predicted,labels)"
   ]
  },
  {
   "cell_type": "code",
   "execution_count": null,
   "metadata": {
    "ExecuteTime": {
     "end_time": "2019-08-01T21:54:36.930663Z",
     "start_time": "2019-08-01T21:27:15.990Z"
    }
   },
   "outputs": [],
   "source": [
    "exec_acc"
   ]
  }
 ],
 "metadata": {
  "kernelspec": {
   "display_name": "Python 3",
   "language": "python",
   "name": "python3"
  },
  "language_info": {
   "codemirror_mode": {
    "name": "ipython",
    "version": 3
   },
   "file_extension": ".py",
   "mimetype": "text/x-python",
   "name": "python",
   "nbconvert_exporter": "python",
   "pygments_lexer": "ipython3",
   "version": "3.7.3"
  },
  "toc": {
   "base_numbering": 1,
   "nav_menu": {},
   "number_sections": true,
   "sideBar": true,
   "skip_h1_title": false,
   "title_cell": "Table of Contents",
   "title_sidebar": "Contents",
   "toc_cell": false,
   "toc_position": {},
   "toc_section_display": true,
   "toc_window_display": false
  }
 },
 "nbformat": 4,
 "nbformat_minor": 2
}
